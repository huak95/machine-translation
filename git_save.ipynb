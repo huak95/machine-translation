{
 "cells": [
  {
   "cell_type": "markdown",
   "metadata": {},
   "source": [
    "## Load Revision"
   ]
  },
  {
   "cell_type": "code",
   "execution_count": 10,
   "metadata": {},
   "outputs": [
    {
     "name": "stdout",
     "output_type": "stream",
     "text": [
      "['rev', '9']\n"
     ]
    },
    {
     "data": {
      "text/plain": [
       "<function TextIOWrapper.close()>"
      ]
     },
     "execution_count": 10,
     "metadata": {},
     "output_type": "execute_result"
    }
   ],
   "source": [
    "f = open('revision.txt', 'r')\n",
    "rev = f.read().split(',')\n",
    "print(rev)\n",
    "rev_num = rev[-1]\n",
    "f.close"
   ]
  },
  {
   "cell_type": "markdown",
   "metadata": {},
   "source": [
    "## Save Revision"
   ]
  },
  {
   "cell_type": "code",
   "execution_count": 11,
   "metadata": {},
   "outputs": [
    {
     "name": "stdout",
     "output_type": "stream",
     "text": [
      "new: ['rev', '10']\n"
     ]
    }
   ],
   "source": [
    "f = open('revision.txt', 'w')\n",
    "rev_new = f'rev,{int(rev_num)+1}'\n",
    "f.write(rev_new)\n",
    "f.close\n",
    "\n",
    "f = open('revision.txt', 'r')\n",
    "rev = f.read().split(',')\n",
    "print('new:',rev)"
   ]
  },
  {
   "cell_type": "markdown",
   "metadata": {},
   "source": [
    "# Git"
   ]
  },
  {
   "cell_type": "code",
   "execution_count": 12,
   "metadata": {},
   "outputs": [
    {
     "name": "stdout",
     "output_type": "stream",
     "text": [
      "M\t.ipynb_checkpoints/git_save-checkpoint.ipynb\n",
      "M\tInstall_Library.ipynb\n",
      "M\tTrain_th-en_harryy.ipynb\n",
      "M\tgit_save.ipynb\n",
      "M\trevision.txt\n",
      "Your branch is up to date with 'origin/main'.\n"
     ]
    }
   ],
   "source": [
    "!git checkout"
   ]
  },
  {
   "cell_type": "code",
   "execution_count": 13,
   "metadata": {},
   "outputs": [
    {
     "name": "stdout",
     "output_type": "stream",
     "text": [
      "'5M dataset.csv'\t        Train_th-en_harryy_scb.ipynb\n",
      " Install_Library.ipynb\t        converted_lst_100k.csv\n",
      " LICENSE\t\t        git_save.ipynb\n",
      " README.md\t\t        opus-mt-th-en-finetuned-5k-th-to-en\n",
      " TEST_dataset_5M.csv\t        revision.txt\n",
      " Train_th-en_harryy.ipynb       small_100.csv\n",
      " Train_th-en_harryy_lst.ipynb\n"
     ]
    }
   ],
   "source": [
    "!ls"
   ]
  },
  {
   "cell_type": "code",
   "execution_count": 14,
   "metadata": {},
   "outputs": [],
   "source": [
    "!git add 'Train_th-en_harryy.ipynb' 'Install_Library.ipynb' 'git_save.ipynb' 'revision.txt' 'Train_th-en_harryy_scb.ipynb'\n",
    "# git add all"
   ]
  },
  {
   "cell_type": "code",
   "execution_count": 15,
   "metadata": {},
   "outputs": [],
   "source": [
    "!\n",
    "!git config --global user.email \"huak95@gmail.com\"\n"
   ]
  },
  {
   "cell_type": "code",
   "execution_count": 16,
   "metadata": {},
   "outputs": [
    {
     "name": "stdout",
     "output_type": "stream",
     "text": [
      "[main 8ab7565] revision_9\n",
      " 4 files changed, 504 insertions(+), 173 deletions(-)\n"
     ]
    }
   ],
   "source": [
    "!git commit -m \"revision_{rev_num}\"\n"
   ]
  },
  {
   "cell_type": "code",
   "execution_count": 17,
   "metadata": {},
   "outputs": [],
   "source": [
    "# !git push \n"
   ]
  },
  {
   "cell_type": "code",
   "execution_count": 18,
   "metadata": {},
   "outputs": [
    {
     "name": "stdout",
     "output_type": "stream",
     "text": [
      "rev,10"
     ]
    }
   ],
   "source": [
    "!cat revision.txt"
   ]
  },
  {
   "cell_type": "code",
   "execution_count": null,
   "metadata": {},
   "outputs": [],
   "source": []
  }
 ],
 "metadata": {
  "kernelspec": {
   "display_name": "Python 3",
   "language": "python",
   "name": "python3"
  },
  "language_info": {
   "codemirror_mode": {
    "name": "ipython",
    "version": 3
   },
   "file_extension": ".py",
   "mimetype": "text/x-python",
   "name": "python",
   "nbconvert_exporter": "python",
   "pygments_lexer": "ipython3",
   "version": "3.8.5"
  }
 },
 "nbformat": 4,
 "nbformat_minor": 4
}
