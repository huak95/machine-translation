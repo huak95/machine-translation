{
 "cells": [
  {
   "cell_type": "markdown",
   "metadata": {},
   "source": [
    "## Load Revision"
   ]
  },
  {
   "cell_type": "code",
   "execution_count": 5,
   "metadata": {},
   "outputs": [
    {
     "name": "stdout",
     "output_type": "stream",
     "text": [
      "['rev', '3']\n"
     ]
    },
    {
     "data": {
      "text/plain": [
       "<function TextIOWrapper.close()>"
      ]
     },
     "execution_count": 5,
     "metadata": {},
     "output_type": "execute_result"
    }
   ],
   "source": [
    "f = open('revision.txt', 'r')\n",
    "rev = f.read().split(',')\n",
    "print(rev)\n",
    "rev_num = rev[-1]\n",
    "f.close"
   ]
  },
  {
   "cell_type": "markdown",
   "metadata": {},
   "source": [
    "## Save Revision"
   ]
  },
  {
   "cell_type": "code",
   "execution_count": 8,
   "metadata": {},
   "outputs": [
    {
     "name": "stdout",
     "output_type": "stream",
     "text": [
      "new: ['rev', '4']\n"
     ]
    }
   ],
   "source": [
    "f = open('revision.txt', 'w')\n",
    "rev_new = f'rev,{int(rev_num)+1}'\n",
    "f.write(rev_new)\n",
    "f.close\n",
    "\n",
    "f = open('revision.txt', 'r')\n",
    "rev = f.read().split(',')\n",
    "print('new:',rev)"
   ]
  },
  {
   "cell_type": "code",
   "execution_count": 6,
   "metadata": {},
   "outputs": [
    {
     "name": "stdout",
     "output_type": "stream",
     "text": [
      "[main 1a2bbc3] revision_3\n",
      " 2 files changed, 7155 insertions(+)\n",
      " create mode 100644 Install_Library.ipynb\n",
      " create mode 100644 Train_th-en_harryy.ipynb\n"
     ]
    }
   ],
   "source": [
    "!git config --global user.email \"huak95@gmail.com\"\n",
    "!git commit -m \"revision_{rev_num}\""
   ]
  },
  {
   "cell_type": "markdown",
   "metadata": {},
   "source": [
    "# Git"
   ]
  },
  {
   "cell_type": "code",
   "execution_count": 1,
   "metadata": {},
   "outputs": [
    {
     "name": "stdout",
     "output_type": "stream",
     "text": [
      "D\t.ipynb_checkpoints/Install_Library_v3-checkpoint.ipynb\n",
      "D\t.ipynb_checkpoints/Transformers_Train_then_harryyy_v3-checkpoint.ipynb\n",
      "M\t.ipynb_checkpoints/git_save-checkpoint.ipynb\n",
      "D\tInstall_Library_v3.ipynb\n",
      "D\tTransformers_Train_then_harryyy_v3.ipynb\n",
      "M\tgit_save.ipynb\n",
      "Your branch is up to date with 'origin/main'.\n"
     ]
    }
   ],
   "source": [
    "!git checkout"
   ]
  },
  {
   "cell_type": "code",
   "execution_count": 2,
   "metadata": {},
   "outputs": [
    {
     "name": "stdout",
     "output_type": "stream",
     "text": [
      "Install_Library.ipynb  README.md\t\t git_save.ipynb\n",
      "LICENSE\t\t       Train_th-en_harryy.ipynb  revision.txt\n"
     ]
    }
   ],
   "source": [
    "!ls"
   ]
  },
  {
   "cell_type": "code",
   "execution_count": 3,
   "metadata": {},
   "outputs": [],
   "source": [
    "!git add 'Train_th-en_harryy.ipynb' 'Install_Library.ipynb' 'git_save.ipynb' 'revision.txt'\n",
    "# git add all"
   ]
  },
  {
   "cell_type": "code",
   "execution_count": 10,
   "metadata": {},
   "outputs": [
    {
     "name": "stdout",
     "output_type": "stream",
     "text": [
      "Password for 'https://huak95@github.com': "
     ]
    }
   ],
   "source": [
    "!git push"
   ]
  },
  {
   "cell_type": "code",
   "execution_count": 9,
   "metadata": {},
   "outputs": [
    {
     "name": "stdout",
     "output_type": "stream",
     "text": [
      "rev,4"
     ]
    }
   ],
   "source": [
    "!cat revision.txt"
   ]
  },
  {
   "cell_type": "code",
   "execution_count": null,
   "metadata": {},
   "outputs": [],
   "source": []
  }
 ],
 "metadata": {
  "kernelspec": {
   "display_name": "Python 3",
   "language": "python",
   "name": "python3"
  },
  "language_info": {
   "codemirror_mode": {
    "name": "ipython",
    "version": 3
   },
   "file_extension": ".py",
   "mimetype": "text/x-python",
   "name": "python",
   "nbconvert_exporter": "python",
   "pygments_lexer": "ipython3",
   "version": "3.8.5"
  }
 },
 "nbformat": 4,
 "nbformat_minor": 4
}
