{
 "cells": [
  {
   "cell_type": "markdown",
   "metadata": {},
   "source": [
    "## Load Revision"
   ]
  },
  {
   "cell_type": "code",
   "execution_count": 11,
   "metadata": {},
   "outputs": [
    {
     "name": "stdout",
     "output_type": "stream",
     "text": [
      "['rev', '4']\n"
     ]
    },
    {
     "data": {
      "text/plain": [
       "<function TextIOWrapper.close()>"
      ]
     },
     "execution_count": 11,
     "metadata": {},
     "output_type": "execute_result"
    }
   ],
   "source": [
    "f = open('revision.txt', 'r')\n",
    "rev = f.read().split(',')\n",
    "print(rev)\n",
    "rev_num = rev[-1]\n",
    "f.close"
   ]
  },
  {
   "cell_type": "markdown",
   "metadata": {},
   "source": [
    "## Save Revision"
   ]
  },
  {
   "cell_type": "code",
   "execution_count": 12,
   "metadata": {},
   "outputs": [
    {
     "name": "stdout",
     "output_type": "stream",
     "text": [
      "new: ['rev', '5']\n"
     ]
    }
   ],
   "source": [
    "f = open('revision.txt', 'w')\n",
    "rev_new = f'rev,{int(rev_num)+1}'\n",
    "f.write(rev_new)\n",
    "f.close\n",
    "\n",
    "f = open('revision.txt', 'r')\n",
    "rev = f.read().split(',')\n",
    "print('new:',rev)"
   ]
  },
  {
   "cell_type": "markdown",
   "metadata": {},
   "source": [
    "# Git"
   ]
  },
  {
   "cell_type": "code",
   "execution_count": 21,
   "metadata": {},
   "outputs": [
    {
     "name": "stdout",
     "output_type": "stream",
     "text": [
      "D\t.ipynb_checkpoints/Install_Library_v3-checkpoint.ipynb\n",
      "D\t.ipynb_checkpoints/Transformers_Train_then_harryyy_v3-checkpoint.ipynb\n",
      "M\t.ipynb_checkpoints/git_save-checkpoint.ipynb\n",
      "D\tInstall_Library_v3.ipynb\n",
      "D\tTransformers_Train_then_harryyy_v3.ipynb\n",
      "M\tgit_save.ipynb\n",
      "M\trevision.txt\n",
      "Your branch is up to date with 'origin/main'.\n"
     ]
    }
   ],
   "source": [
    "!git checkout"
   ]
  },
  {
   "cell_type": "code",
   "execution_count": 22,
   "metadata": {},
   "outputs": [
    {
     "name": "stdout",
     "output_type": "stream",
     "text": [
      "Install_Library.ipynb  README.md\t\t git_save.ipynb\n",
      "LICENSE\t\t       Train_th-en_harryy.ipynb  revision.txt\n"
     ]
    }
   ],
   "source": [
    "!ls"
   ]
  },
  {
   "cell_type": "code",
   "execution_count": 28,
   "metadata": {},
   "outputs": [],
   "source": [
    "!git add 'Train_th-en_harryy.ipynb' 'Install_Library.ipynb' 'git_save.ipynb' 'revision.txt' 'Train_th-en_harryy_scb.ipynb'\n",
    "# git add all"
   ]
  },
  {
   "cell_type": "code",
   "execution_count": 24,
   "metadata": {},
   "outputs": [
    {
     "name": "stdout",
     "output_type": "stream",
     "text": [
      "[main ab181f3] revision_4\n",
      " 2 files changed, 71 insertions(+), 93 deletions(-)\n"
     ]
    }
   ],
   "source": [
    "!\n",
    "!git config --global user.email \"huak95@gmail.com\"\n"
   ]
  },
  {
   "cell_type": "code",
   "execution_count": null,
   "metadata": {},
   "outputs": [
    {
     "name": "stdout",
     "output_type": "stream",
     "text": [
      "On branch main\n",
      "Your branch is ahead of 'origin/main' by 2 commits.\n",
      "  (use \"git push\" to publish your local commits)\n",
      "\n",
      "Changes not staged for commit:\n",
      "  (use \"git add/rm <file>...\" to update what will be committed)\n",
      "  (use \"git restore <file>...\" to discard changes in working directory)\n",
      "\t\u001b[31mdeleted:    .ipynb_checkpoints/Install_Library_v3-checkpoint.ipynb\u001b[m\n",
      "\t\u001b[31mdeleted:    .ipynb_checkpoints/Transformers_Train_then_harryyy_v3-checkpoint.ipynb\u001b[m\n",
      "\t\u001b[31mmodified:   .ipynb_checkpoints/git_save-checkpoint.ipynb\u001b[m\n",
      "\t\u001b[31mmodified:   .ipynb_checkpoints/revision-checkpoint.txt\u001b[m\n",
      "\t\u001b[31mdeleted:    Install_Library_v3.ipynb\u001b[m\n",
      "\t\u001b[31mdeleted:    Transformers_Train_then_harryyy_v3.ipynb\u001b[m\n",
      "\t\u001b[31mmodified:   git_save.ipynb\u001b[m\n",
      "\n",
      "Untracked files:\n",
      "  (use \"git add <file>...\" to include in what will be committed)\n",
      "\t\u001b[31m.ipynb_checkpoints/Install_Library-checkpoint.ipynb\u001b[m\n",
      "\t\u001b[31m.ipynb_checkpoints/Train_th-en_harryy-checkpoint.ipynb\u001b[m\n",
      "\n",
      "no changes added to commit (use \"git add\" and/or \"git commit -a\")\n",
      "Password for 'https://huak95@github.com': "
     ]
    }
   ],
   "source": [
    "!git commit -m \"revision_{rev_num}\"\n",
    "!git push"
   ]
  },
  {
   "cell_type": "code",
   "execution_count": 18,
   "metadata": {},
   "outputs": [
    {
     "name": "stdout",
     "output_type": "stream",
     "text": [
      "rev,5"
     ]
    }
   ],
   "source": [
    "!cat revision.txt"
   ]
  },
  {
   "cell_type": "code",
   "execution_count": null,
   "metadata": {},
   "outputs": [],
   "source": []
  }
 ],
 "metadata": {
  "kernelspec": {
   "display_name": "Python 3",
   "language": "python",
   "name": "python3"
  },
  "language_info": {
   "codemirror_mode": {
    "name": "ipython",
    "version": 3
   },
   "file_extension": ".py",
   "mimetype": "text/x-python",
   "name": "python",
   "nbconvert_exporter": "python",
   "pygments_lexer": "ipython3",
   "version": "3.8.5"
  }
 },
 "nbformat": 4,
 "nbformat_minor": 4
}
