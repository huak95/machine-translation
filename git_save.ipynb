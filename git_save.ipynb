{
 "cells": [
  {
   "cell_type": "markdown",
   "metadata": {},
   "source": [
    "## Load Revision"
   ]
  },
  {
   "cell_type": "code",
   "execution_count": 22,
   "metadata": {},
   "outputs": [
    {
     "name": "stdout",
     "output_type": "stream",
     "text": [
      "['rev', '15']\n"
     ]
    },
    {
     "data": {
      "text/plain": [
       "<function TextIOWrapper.close()>"
      ]
     },
     "execution_count": 22,
     "metadata": {},
     "output_type": "execute_result"
    }
   ],
   "source": [
    "f = open('revision.txt', 'r')\n",
    "rev = f.read().split(',')\n",
    "print(rev)\n",
    "rev_num = rev[-1]\n",
    "f.close"
   ]
  },
  {
   "cell_type": "markdown",
   "metadata": {},
   "source": [
    "## Save Revision"
   ]
  },
  {
   "cell_type": "code",
   "execution_count": 23,
   "metadata": {},
   "outputs": [
    {
     "name": "stdout",
     "output_type": "stream",
     "text": [
      "new: ['rev', '16']\n"
     ]
    }
   ],
   "source": [
    "f = open('revision.txt', 'w')\n",
    "rev_new = f'rev,{int(rev_num)+1}'\n",
    "f.write(rev_new)\n",
    "f.close\n",
    "\n",
    "f = open('revision.txt', 'r')\n",
    "rev = f.read().split(',')\n",
    "print('new:',rev)"
   ]
  },
  {
   "cell_type": "markdown",
   "metadata": {},
   "source": [
    "# Git"
   ]
  },
  {
   "cell_type": "code",
   "execution_count": 24,
   "metadata": {},
   "outputs": [
    {
     "name": "stdout",
     "output_type": "stream",
     "text": [
      "M\t.ipynb_checkpoints/git_save-checkpoint.ipynb\n",
      "M\tTrain_th-en_harryy.ipynb\n",
      "M\tgit_save.ipynb\n",
      "M\trevision.txt\n",
      "Your branch is up to date with 'origin/main'.\n"
     ]
    }
   ],
   "source": [
    "!git checkout"
   ]
  },
  {
   "cell_type": "code",
   "execution_count": 25,
   "metadata": {},
   "outputs": [
    {
     "name": "stdout",
     "output_type": "stream",
     "text": [
      "Install_Library.ipynb\t      huak95\n",
      "LICENSE\t\t\t      opus-mt-th-en-finetuned-1Mill-th-to-en\n",
      "README.md\t\t      opus-mt-th-en-finetuned-5k-th-to-en\n",
      "TEST_dataset_5M.csv\t      revision.txt\n",
      "Train_th-en_harryy.ipynb      small_100.csv\n",
      "Train_th-en_harryy_scb.ipynb  using_th-en_harryy.ipynb\n",
      "git_save.ipynb\n"
     ]
    }
   ],
   "source": [
    "!ls"
   ]
  },
  {
   "cell_type": "code",
   "execution_count": 26,
   "metadata": {},
   "outputs": [],
   "source": [
    "!git add 'Train_th-en_harryy.ipynb' 'Install_Library.ipynb' 'git_save.ipynb' 'revision.txt' 'Train_th-en_harryy_scb.ipynb' 'using_th-en_harryy.ipynb'\n",
    "# git add all"
   ]
  },
  {
   "cell_type": "code",
   "execution_count": 27,
   "metadata": {},
   "outputs": [],
   "source": [
    "!\n",
    "!git config --global user.email \"huak95@gmail.com\"\n"
   ]
  },
  {
   "cell_type": "code",
   "execution_count": 28,
   "metadata": {},
   "outputs": [
    {
     "name": "stdout",
     "output_type": "stream",
     "text": [
      "[main bd02a0b] rev_15_Use 449999 data for training alignment-transformer th-en\n",
      " 3 files changed, 17998 insertions(+), 342 deletions(-)\n"
     ]
    }
   ],
   "source": [
    "comment_for_commit =''\n",
    "comment_for_commit = 'Use 449999 data for training alignment-transformer th-en'\n",
    "\n",
    "!git commit -m \"rev_{rev_num}_{comment_for_commit}\"\n"
   ]
  },
  {
   "cell_type": "code",
   "execution_count": 29,
   "metadata": {},
   "outputs": [],
   "source": [
    "# !git push \n"
   ]
  },
  {
   "cell_type": "code",
   "execution_count": 30,
   "metadata": {},
   "outputs": [
    {
     "name": "stdout",
     "output_type": "stream",
     "text": [
      "rev,16"
     ]
    }
   ],
   "source": [
    "!cat revision.txt"
   ]
  },
  {
   "cell_type": "code",
   "execution_count": null,
   "metadata": {},
   "outputs": [],
   "source": []
  }
 ],
 "metadata": {
  "kernelspec": {
   "display_name": "Python 3",
   "language": "python",
   "name": "python3"
  },
  "language_info": {
   "codemirror_mode": {
    "name": "ipython",
    "version": 3
   },
   "file_extension": ".py",
   "mimetype": "text/x-python",
   "name": "python",
   "nbconvert_exporter": "python",
   "pygments_lexer": "ipython3",
   "version": "3.8.5"
  }
 },
 "nbformat": 4,
 "nbformat_minor": 4
}
